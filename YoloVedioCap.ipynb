{
  "nbformat": 4,
  "nbformat_minor": 0,
  "metadata": {
    "colab": {
      "name": "YoloVedioCap.ipynb",
      "provenance": [],
      "authorship_tag": "ABX9TyOCB+xemyUChyyGCAnd9cOq",
      "include_colab_link": true
    },
    "kernelspec": {
      "name": "python3",
      "display_name": "Python 3"
    },
    "accelerator": "GPU"
  },
  "cells": [
    {
      "cell_type": "markdown",
      "metadata": {
        "id": "view-in-github",
        "colab_type": "text"
      },
      "source": [
        "<a href=\"https://colab.research.google.com/github/brkuhgk/yolo/blob/master/YoloVedioCap.ipynb\" target=\"_parent\"><img src=\"https://colab.research.google.com/assets/colab-badge.svg\" alt=\"Open In Colab\"/></a>"
      ]
    },
    {
      "cell_type": "code",
      "metadata": {
        "colab": {
          "base_uri": "https://localhost:8080/"
        },
        "id": "t_P6U4pOZdyl",
        "outputId": "495aecc3-184e-4d6f-9a5c-c8d813fd8aa7"
      },
      "source": [
        "from google.colab import drive\n",
        "drive.mount('/content/drive')"
      ],
      "execution_count": 19,
      "outputs": [
        {
          "output_type": "stream",
          "text": [
            "Drive already mounted at /content/drive; to attempt to forcibly remount, call drive.mount(\"/content/drive\", force_remount=True).\n"
          ],
          "name": "stdout"
        }
      ]
    },
    {
      "cell_type": "code",
      "metadata": {
        "id": "zqsN3wNecdcI"
      },
      "source": [
        "from google.colab.patches import cv2_imshow"
      ],
      "execution_count": 20,
      "outputs": []
    },
    {
      "cell_type": "code",
      "metadata": {
        "id": "rpGL1VL5afnv"
      },
      "source": [
        "import cv2\n",
        "import numpy as np\n"
      ],
      "execution_count": 21,
      "outputs": []
    },
    {
      "cell_type": "code",
      "metadata": {
        "id": "YaBBOW_tcsYl"
      },
      "source": [
        "#drive/MyDrive/new/yolo/\n",
        "\n",
        "# Load Yolo \n",
        "#drive/MyDrive/new/yolo/\n",
        "net = cv2.dnn.readNet(\"drive/MyDrive/new/yolo/yolov3.weights\", \"drive/MyDrive/new/yolo/yolov3.cfg\")\n",
        "classes = []\n",
        "with open(\"drive/MyDrive/new/yolo/coco.names\", \"r\") as f:\n",
        "    classes = [line.strip() for line in f.readlines()]\n",
        "layer_names = net.getLayerNames()\n",
        "output_layers = [layer_names[i[0] - 1] for i in net.getUnconnectedOutLayers()]\n",
        "colors = np.random.uniform(0, 255, size=(len(classes), 3))\n"
      ],
      "execution_count": 22,
      "outputs": []
    },
    {
      "cell_type": "code",
      "metadata": {
        "colab": {
          "base_uri": "https://localhost:8080/"
        },
        "id": "2lLPm_GXsrWh",
        "outputId": "096289b6-cf2c-48fd-ea0d-c2f1f65c675d"
      },
      "source": [
        "#vediocapture\n",
        "vediocap = cv2.VideoCapture('drive/MyDrive/new/yolo/tv_chair.mp4')\n",
        "vediocap.set(cv2.CAP_PROP_FRAME_WIDTH,640)\n",
        "vediocap.set(cv2.CAP_PROP_FRAME_HEIGHT,480)\n",
        "vediocap.set(cv2.CAP_PROP_FPS, 30) \n",
        "\n",
        "# Define the codec and create VideoWriter object\n",
        "fourcc = cv2.VideoWriter_fourcc(*'DIVX')\n",
        "out = cv2.VideoWriter('drive/MyDrive/new/yolo/tv_chairRes1.avi',fourcc, 30.0, (640,480))\n"
      ],
      "execution_count": 23,
      "outputs": [
        {
          "output_type": "execute_result",
          "data": {
            "text/plain": [
              "False"
            ]
          },
          "metadata": {
            "tags": []
          },
          "execution_count": 23
        }
      ]
    },
    {
      "cell_type": "code",
      "metadata": {
        "id": "RkkJlE4NeAlI"
      },
      "source": [
        "while vediocap.isOpened():\n",
        "    # Capture frame-by-frame\n",
        "  ret, img = vediocap.read()\n",
        "  if not ret:\n",
        "    break\n",
        "  # Loading image\n",
        "  # img = cv2.imread(\"drive/MyDrive/new/yolo/\")\n",
        "  # img = cv2.resize(img, None, fx=0.4, fy=0.4)\n",
        "  height,width,channels = img.shape\n",
        "  \n",
        "  #Detecting objects\n",
        "  blob = cv2.dnn.blobFromImage(img, 0.00392, (416, 416), (0, 0, 0), True, crop=False)\n",
        "  net.setInput(blob)\n",
        "  outs = net.forward(output_layers)\n",
        "\n",
        "  # Showing informations on the screen\n",
        "  class_ids = []\n",
        "  confidences = []\n",
        "  boxes = []\n",
        "  for out in outs:\n",
        "      for detection in out:\n",
        "        scores = detection[5:]\n",
        "        class_id = np.argmax(scores)\n",
        "        confidence = scores[class_id]\n",
        "        if confidence > 0.5:\n",
        "            # Object detected\n",
        "            center_x = int(detection[0] * width)\n",
        "            center_y = int(detection[1] * height)\n",
        "            w = int(detection[2] * width)\n",
        "            h = int(detection[3] * height)\n",
        "\n",
        "            # Rectangle coordinates\n",
        "            x = int(center_x - w / 2)\n",
        "            y = int(center_y - h / 2)\n",
        "\n",
        "            boxes.append([x, y, w, h])\n",
        "            confidences.append(float(confidence))\n",
        "            class_ids.append(class_id)\n",
        "  \n",
        "  \n",
        "  \n",
        "  indexes = cv2.dnn.NMSBoxes(boxes, confidences, 0.5, 0.4)\n",
        "\n",
        "  font = cv2.FONT_HERSHEY_PLAIN\n",
        "  for i in range(len(boxes)):\n",
        "      # print(i)\n",
        "      if i in indexes:\n",
        "          x, y, w, h = boxes[i]\n",
        "          label = str(classes[class_ids[i]])\n",
        "          color = colors[i]\n",
        "          cv2.rectangle(img, (x, y), (x + w, y + h), color, 2)\n",
        "          cv2.putText(img, label, (x, y + 30), font, 3, color, 3)\n",
        "\n",
        "  # cv2_imshow(img)\n",
        "  out.write(img)\n",
        "\n",
        "cv2.waitKey(0)\n",
        "cv2.destroyAllWindows()\n"
      ],
      "execution_count": null,
      "outputs": []
    }
  ]
}